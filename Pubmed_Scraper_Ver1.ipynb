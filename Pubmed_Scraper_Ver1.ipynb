{
 "cells": [
  {
   "cell_type": "code",
   "execution_count": null,
   "metadata": {},
   "outputs": [],
   "source": [
    "import pandas as pd\n",
    "import numpy as np\n",
    "from datetime import date, datetime, timedelta\n",
    "import time\n",
    "import os\n",
    "from selenium import webdriver\n",
    "from selenium.webdriver.common.by import By \n",
    "from selenium.webdriver.support.ui import WebDriverWait \n",
    "from selenium.webdriver.support import expected_conditions as EC\n",
    "import warnings\n",
    "warnings.filterwarnings(\"ignore\")\n",
    "\n",
    "Adr_df = pd.read_csv('csv-adverseeff-set.csv')\n",
    "Adr_id = Adr_df['PMID']\n",
    "Abstracts = []\n",
    "for i in range(len(Adr_id)):\n",
    "\tprint(i)\n",
    "#### Open browser\n",
    "\tbrowser = webdriver.Chrome(executable_path='C:/Users/sridhar/Downloads/chromedriver')\n",
    "\tbrowser.get(\"https://pubmed.ncbi.nlm.nih.gov/%s/\"%Adr_id[i])\n",
    "\t    \n",
    "\t### Dowloading data from browser\n",
    "\t# try:\n",
    "\t# \tAbstract = browser.find_element_by_xpath('/html/body/div[6]/main/div[2]/div')\n",
    "\t# except:\n",
    "\ttry:\n",
    "\t\tAbstract=WebDriverWait(browser,10).until(EC.presence_of_element_located((By.XPATH,'/html/body/div[6]/main/div[2]/div')))\n",
    "\texcept:\n",
    "\t\tAbstract=WebDriverWait(browser,10).until(EC.presence_of_element_located((By.XPATH,'/html/body/div[6]/main/div[3]/div')))\n",
    "\t\n",
    "\t#('/html/body/div[6]/main/div[2]')\n",
    "\t\n",
    "\tAbstracts.append(Abstract.text)\n",
    "\n",
    "\ttime.sleep(10)\n",
    "\tbrowser.close()\n",
    "\t# print(i,Abstracts)\n",
    "Adr_abs = pd.DataFrame({\"Abstract\":Abstracts})\n",
    "df = pd.concat([Adr_df,Adr_abs], axis=1)\n",
    "df.to_csv('test.csv')"
   ]
  },
  {
   "cell_type": "code",
   "execution_count": null,
   "metadata": {},
   "outputs": [],
   "source": []
  }
 ],
 "metadata": {
  "kernelspec": {
   "display_name": "Python 3",
   "language": "python",
   "name": "python3"
  },
  "language_info": {
   "codemirror_mode": {
    "name": "ipython",
    "version": 3
   },
   "file_extension": ".py",
   "mimetype": "text/x-python",
   "name": "python",
   "nbconvert_exporter": "python",
   "pygments_lexer": "ipython3",
   "version": "3.8.3"
  }
 },
 "nbformat": 4,
 "nbformat_minor": 4
}
